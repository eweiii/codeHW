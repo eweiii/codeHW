{
  "nbformat": 4,
  "nbformat_minor": 0,
  "metadata": {
    "colab": {
      "provenance": []
    },
    "kernelspec": {
      "name": "python3",
      "display_name": "Python 3"
    },
    "language_info": {
      "name": "python"
    }
  },
  "cells": [
    {
      "cell_type": "code",
      "source": [
        "a = int(input('請輸入一個數字：'))\n",
        "if a < 2:\n",
        "  print('錯誤')\n",
        "else:\n",
        "  for i in range(a):\n",
        "    t = 1\n",
        "    for j in range(2,a):\n",
        "      if a%j == 0:\n",
        "        t = 0\n",
        "      break\n",
        "    if t == 1:\n",
        "      print(a)\n",
        "      break\n",
        "    a -= 1"
      ],
      "metadata": {
        "colab": {
          "base_uri": "https://localhost:8080/"
        },
        "id": "__5_Iw6wtvC_",
        "outputId": "8e36d6cd-1c6a-4e85-da3a-f07a19c9be84"
      },
      "execution_count": 7,
      "outputs": [
        {
          "output_type": "stream",
          "name": "stdout",
          "text": [
            "請輸入一個數字：84\n",
            "83\n"
          ]
        }
      ]
    },
    {
      "cell_type": "code",
      "source": [
        "a = input('請輸入數字：')\n",
        "b = []\n",
        "c = a.split(',')\n",
        "for i in range(len(c)):\n",
        "  c[i] = int(c[i])\n",
        "for i in range(len(c)):\n",
        "  m = 0\n",
        "  for j in range(len(c)):\n",
        "    if c[j] < c[i]:\n",
        "      m+=1\n",
        "  b.append(m)\n",
        "print(b)"
      ],
      "metadata": {
        "colab": {
          "base_uri": "https://localhost:8080/"
        },
        "id": "vsC3cXRYrfzP",
        "outputId": "0db2c8f6-a58a-4c3d-ae54-ee57440e4af0"
      },
      "execution_count": null,
      "outputs": [
        {
          "output_type": "stream",
          "name": "stdout",
          "text": [
            "請輸入數字：8,1,2,2,3\n",
            "[4, 0, 1, 1, 3]\n"
          ]
        }
      ]
    },
    {
      "cell_type": "code",
      "source": [
        "a = input('輸入：')\n",
        "b = []\n",
        "n = 0\n",
        "for i in range(len(a)):\n",
        "  m = 0\n",
        "  for j in range(len(a)):\n",
        "    if a[j] == '1':\n",
        "      n = abs(j - i)\n",
        "      m += n\n",
        "  b.append(m)\n",
        "print(b)"
      ],
      "metadata": {
        "colab": {
          "base_uri": "https://localhost:8080/"
        },
        "id": "xhsjKX_2tzZO",
        "outputId": "d69a1ce6-1c7d-405d-c050-f4c194ad47fb"
      },
      "execution_count": null,
      "outputs": [
        {
          "output_type": "stream",
          "name": "stdout",
          "text": [
            "輸入：001011\n",
            "[11, 8, 5, 4, 3, 4]\n"
          ]
        }
      ]
    }
  ]
}