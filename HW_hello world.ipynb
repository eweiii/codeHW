{
  "nbformat": 4,
  "nbformat_minor": 0,
  "metadata": {
    "colab": {
      "provenance": []
    },
    "kernelspec": {
      "name": "python3",
      "display_name": "Python 3"
    },
    "language_info": {
      "name": "python"
    }
  },
  "cells": [
    {
      "cell_type": "code",
      "execution_count": 2,
      "metadata": {
        "id": "S5SXOsNfPNPk",
        "colab": {
          "base_uri": "https://localhost:8080/"
        },
        "outputId": "8eb13475-ff0e-4fdd-f9cc-3e383ed34568"
      },
      "outputs": [
        {
          "output_type": "stream",
          "name": "stdout",
          "text": [
            "HeLLo WoRlD!!!\n"
          ]
        }
      ],
      "source": [
        "x = 'HeLLo WoRlD!!!'\n",
        "print (x)"
      ]
    }
  ]
}