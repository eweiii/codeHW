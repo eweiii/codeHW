{
  "cells": [
    {
      "cell_type": "code",
      "execution_count": null,
      "metadata": {
        "colab": {
          "base_uri": "https://localhost:8080/"
        },
        "id": "bG4mMmtAugJQ",
        "outputId": "72619b34-e3bc-48e6-824e-81df5f79083e"
      },
      "outputs": [
        {
          "output_type": "stream",
          "name": "stdout",
          "text": [
            "        *\n",
            "       ***\n",
            "      *****\n",
            "     *******\n",
            "    *********\n",
            "   ***********\n",
            "  *************\n",
            " ***************\n",
            "*****************\n",
            "       ***       \n",
            "       ***       \n",
            "       ***       \n",
            "       ***       \n",
            "       ***       \n"
          ]
        }
      ],
      "source": [
        "a = '*'\n",
        "for i in range(1,10):\n",
        "  for m in range(int((18-2*i)/2)):\n",
        "    print(' ', end='')\n",
        "  for j in range(1, 2*i):\n",
        "    c = f'{a}'\n",
        "    print(c, end='')\n",
        "  print('')\n",
        "b = \"***\"\n",
        "for i in range(1, 6):\n",
        "  print(f'{b:^17s}')"
      ]
    },
    {
      "cell_type": "code",
      "execution_count": 1,
      "metadata": {
        "colab": {
          "base_uri": "https://localhost:8080/"
        },
        "id": "G8wP3UGpv_SY",
        "outputId": "94e48dd7-b7df-492d-cb5f-a8a87e8c8a43"
      },
      "outputs": [
        {
          "output_type": "stream",
          "name": "stdout",
          "text": [
            "[8, 2, 3, 6]\n",
            "輸入四個數字（不會重複）：76423\n",
            "輸入數字過多，請輸入四個數字（不會重複）：9876\n",
            "9876 : 1 A 1 B\n",
            "輸入四個數字（不會重複）：8214\n",
            "8214 : 2 A 0 B\n",
            "輸入四個數字（不會重複）：2863\n",
            "2863 : 0 A 4 B\n",
            "輸入四個數字（不會重複）：8972\n",
            "8972 : 1 A 1 B\n",
            "輸入四個數字（不會重複）：6435\n",
            "6435 : 1 A 1 B\n",
            "輸入四個數字（不會重複）：8236\n",
            "8236 : 4 A 0 B\n",
            "答對了!總共猜了 6 次\n"
          ]
        }
      ],
      "source": [
        "import random\n",
        "r = random.sample(range(1,10), 4)\n",
        "print(r)\n",
        "n = 0 #number of A\n",
        "m = 0 #number of B\n",
        "c = 0 #猜的次數\n",
        "while n != 4:\n",
        "  n = 0\n",
        "  m = 0\n",
        "  c += 1\n",
        "  a = input(('輸入四個數字（不會重複）：'))\n",
        "  while len(a)>4:\n",
        "    a = input(('輸入數字過多，請輸入四個數字（不會重複）：'))\n",
        "  h = list(a)\n",
        "  for i in range(4):\n",
        "    h[i] = int(h[i])\n",
        "  for w in range(4):\n",
        "    for y in range(4):\n",
        "      if h[w] == r[y]: #輸入的數字跟答案比對\n",
        "        m += 1\n",
        "        if h[w] == r[w]:\n",
        "          m -= 1\n",
        "          n += 1\n",
        "  print(a, ':', n,'A', m, 'B')\n",
        "print('答對了!總共猜了', c, '次')"
      ]
    }
  ],
  "metadata": {
    "colab": {
      "provenance": []
    },
    "kernelspec": {
      "display_name": "Python 3",
      "name": "python3"
    },
    "language_info": {
      "name": "python"
    }
  },
  "nbformat": 4,
  "nbformat_minor": 0
}