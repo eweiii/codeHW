{
  "nbformat": 4,
  "nbformat_minor": 0,
  "metadata": {
    "colab": {
      "provenance": []
    },
    "kernelspec": {
      "name": "python3",
      "display_name": "Python 3"
    },
    "language_info": {
      "name": "python"
    }
  },
  "cells": [
    {
      "cell_type": "code",
      "execution_count": 1,
      "metadata": {
        "colab": {
          "base_uri": "https://localhost:8080/"
        },
        "id": "q1yCBmwdbwUX",
        "outputId": "26f8d65a-cb82-4c32-c35f-e9b463969a04"
      },
      "outputs": [
        {
          "output_type": "stream",
          "name": "stdout",
          "text": [
            "聖誕樹層數:10\n",
            "         *\n",
            "        ***\n",
            "       *****\n",
            "      *******\n",
            "     *********\n",
            "    ***********\n",
            "   *************\n",
            "  ***************\n",
            " *****************\n",
            "*******************\n",
            "        ***\n",
            "        ***\n",
            "        ***\n",
            "        ***\n",
            "        ***\n"
          ]
        }
      ],
      "source": [
        "a = '*'\n",
        "k = input('聖誕樹層數:')\n",
        "def floor(k):\n",
        "  k = int(k)\n",
        "  for i in range(1, k + 1):\n",
        "    for m in range(int((2*k-2*i)/2)):\n",
        "     print(' ', end='')\n",
        "    for j in range(1, 2*i):\n",
        "      c = f'{a}'\n",
        "      print(c, end='')\n",
        "    print('')\n",
        "  b = \"***\"\n",
        "  for i in range(1, 6):\n",
        "    for j in range(1, int((2*k-4)/2)+1):\n",
        "      print(' ',end=(''))\n",
        "    print(b)\n",
        "floor(k)"
      ]
    },
    {
      "cell_type": "code",
      "source": [
        "def BMI(l,w):\n",
        "  try:\n",
        "    l/=100\n",
        "    l**=2\n",
        "    s = w / l\n",
        "    return s\n",
        "  except:\n",
        "    return '輸入內容錯誤'\n",
        "def body(ans):\n",
        "  try:\n",
        "    if ans < 18.5:\n",
        "      return'過輕'\n",
        "    elif ans >= 18.5 and ans < 24:\n",
        "      return'適中'\n",
        "    elif ans >= 24 and ans < 27:\n",
        "      return'過重'\n",
        "    else :\n",
        "      return'肥胖'\n",
        "  except:\n",
        "    return'輸入內容錯誤'\n",
        "try:\n",
        "  l = float(input('身高（公分）：'))\n",
        "  w = float(input('體重（公斤）：'))\n",
        "  ans = BMI(l, w)\n",
        "  wer = body(ans)\n",
        "  print('BMI:', ans)\n",
        "  print('體位：', wer)\n",
        "except:\n",
        "  print('輸入內容錯誤')"
      ],
      "metadata": {
        "id": "2MhOPqwvwV1U",
        "colab": {
          "base_uri": "https://localhost:8080/"
        },
        "outputId": "6276fd4f-be8a-406a-a8f4-73a3f8610ee1"
      },
      "execution_count": 3,
      "outputs": [
        {
          "output_type": "stream",
          "name": "stdout",
          "text": [
            "身高（公分）：180\n",
            "體重（公斤）：86\n",
            "BMI: 26.54320987654321\n",
            "體位： 過重\n"
          ]
        }
      ]
    }
  ]
}