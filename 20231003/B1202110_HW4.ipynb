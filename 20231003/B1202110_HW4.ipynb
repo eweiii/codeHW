{
  "nbformat": 4,
  "nbformat_minor": 0,
  "metadata": {
    "colab": {
      "provenance": []
    },
    "kernelspec": {
      "name": "python3",
      "display_name": "Python 3"
    },
    "language_info": {
      "name": "python"
    }
  },
  "cells": [
    {
      "cell_type": "code",
      "execution_count": null,
      "metadata": {
        "colab": {
          "base_uri": "https://localhost:8080/"
        },
        "id": "ZDNZRgJ9p6wj",
        "outputId": "350a8802-bfed-4979-dc45-3204cfdb92f3"
      },
      "outputs": [
        {
          "output_type": "stream",
          "name": "stdout",
          "text": [
            "請輸入成績：80 100 90 95 85\n",
            "90.0\n"
          ]
        }
      ],
      "source": [
        "a = input('請輸入成績：')\n",
        "a = a.split(' ')\n",
        "a = [float(i)for i in a]\n",
        "a.pop(a.index(max(a)))\n",
        "a.pop(a.index(min(a)))\n",
        "print(sum(a)/len(a))"
      ]
    },
    {
      "cell_type": "code",
      "source": [
        "a = input('請輸入一個算式：') #第二題寫法一\n",
        "a = eval(a)\n",
        "print(a)"
      ],
      "metadata": {
        "colab": {
          "base_uri": "https://localhost:8080/"
        },
        "id": "nqc53dXDgSqP",
        "outputId": "88dd0342-ccc4-4d1d-989f-8552a3490812"
      },
      "execution_count": null,
      "outputs": [
        {
          "output_type": "stream",
          "name": "stdout",
          "text": [
            "請輸入一個算式：8.1+0.4\n",
            "8.5\n"
          ]
        }
      ]
    },
    {
      "cell_type": "code",
      "source": [
        "a = input('請輸入兩個數字，中間請以一個空格隔開：') #第二題寫法二\n",
        "b = input('請輸入一個運算子：')\n",
        "a = a.split(' ')\n",
        "a = [float(i)for i in a]\n",
        "if b == '+':\n",
        "  sum = a[0] + a[1]\n",
        "  print(sum)\n",
        "elif b == '-':\n",
        "  sum = a[0] - a[1]\n",
        "  print(sum)\n",
        "elif b == '*':\n",
        "  sum = a[0] * a[1]\n",
        "  print(sum)\n",
        "elif b == '/':\n",
        "  sum = a[0] / a[1]\n",
        "  print(sum)\n",
        "else:\n",
        "  print('請輸入+-*/其中一個運算符號')"
      ],
      "metadata": {
        "id": "cxctX3P-76_Y",
        "colab": {
          "base_uri": "https://localhost:8080/"
        },
        "outputId": "a127ebad-be41-41d5-a5bf-0f049ef34f09"
      },
      "execution_count": null,
      "outputs": [
        {
          "output_type": "stream",
          "name": "stdout",
          "text": [
            "請輸入兩個數字，中間請以一個空格隔開：7 8\n",
            "請輸入一個運算子：%\n",
            "請輸入+-*/其中一個運算符號\n"
          ]
        }
      ]
    },
    {
      "cell_type": "code",
      "source": [
        "year = input('請輸入一個年份：')\n",
        "year = int(year)\n",
        "if year%4 == 0:\n",
        "  if year <= 1582:\n",
        "    print('閏年')\n",
        "  else:\n",
        "    if year%100 == 0:\n",
        "      if year%400 == 0:\n",
        "        print('閏年')\n",
        "      else:\n",
        "        print('平年')\n",
        "    else:\n",
        "      print('閏年')\n",
        "else:\n",
        "  print('平年')"
      ],
      "metadata": {
        "colab": {
          "base_uri": "https://localhost:8080/"
        },
        "id": "RfaEZKkydTT4",
        "outputId": "6ed0a48f-3e82-4573-9157-36197dfa7872"
      },
      "execution_count": 40,
      "outputs": [
        {
          "output_type": "stream",
          "name": "stdout",
          "text": [
            "請輸入一個年份：1500\n",
            "閏年\n"
          ]
        }
      ]
    }
  ]
}