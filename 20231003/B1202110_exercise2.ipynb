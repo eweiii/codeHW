{
  "nbformat": 4,
  "nbformat_minor": 0,
  "metadata": {
    "colab": {
      "provenance": []
    },
    "kernelspec": {
      "name": "python3",
      "display_name": "Python 3"
    },
    "language_info": {
      "name": "python"
    }
  },
  "cells": [
    {
      "cell_type": "code",
      "execution_count": null,
      "metadata": {
        "colab": {
          "base_uri": "https://localhost:8080/"
        },
        "id": "8aleOMUXWROT",
        "outputId": "15065986-6ef7-4315-9528-8afa575eaceb"
      },
      "outputs": [
        {
          "output_type": "stream",
          "name": "stdout",
          "text": [
            "A\n",
            "['K', 'H', 'U']\n"
          ]
        }
      ],
      "source": [
        "a = 'C,B,A'\n",
        "a = a.split(',')\n",
        "b = ['F', 'G', 'H']\n",
        "a = a+b\n",
        "a[0]='K'\n",
        "c = a.pop(2)\n",
        "print(c)\n",
        "del a[1:4]\n",
        "a.append('U')\n",
        "print(a)"
      ]
    },
    {
      "cell_type": "code",
      "source": [
        "l = float(input('請輸入你的身高(公尺):'))\n",
        "w = float(input('請輸入你的體重(公斤):'))\n",
        "l**=2\n",
        "w/=l\n",
        "print('BMI:',w)\n",
        "if w < 18.5:\n",
        "  print('過輕')\n",
        "elif w >= 18.5 and w < 24:\n",
        "  print('適中')\n",
        "elif w >= 24 and w < 27:\n",
        "  print('過重')\n",
        "else :\n",
        "  print('肥胖')"
      ],
      "metadata": {
        "colab": {
          "base_uri": "https://localhost:8080/"
        },
        "id": "AjqKpGa6iCKJ",
        "outputId": "60fb08ef-e83f-41eb-992e-99109d53a9cc"
      },
      "execution_count": null,
      "outputs": [
        {
          "output_type": "stream",
          "name": "stdout",
          "text": [
            "請輸入你的身高(公尺):1.6\n",
            "請輸入你的體重(公斤):100\n",
            "BMI: 39.06249999999999\n",
            "肥胖\n"
          ]
        }
      ]
    }
  ]
}