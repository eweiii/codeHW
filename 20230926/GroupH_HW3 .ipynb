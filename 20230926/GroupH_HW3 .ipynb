{
  "nbformat": 4,
  "nbformat_minor": 0,
  "metadata": {
    "colab": {
      "provenance": []
    },
    "kernelspec": {
      "name": "python3",
      "display_name": "Python 3"
    },
    "language_info": {
      "name": "python"
    }
  },
  "cells": [
    {
      "cell_type": "code",
      "execution_count": null,
      "metadata": {
        "colab": {
          "base_uri": "https://localhost:8080/"
        },
        "id": "NuZ5uqRUmhxS",
        "outputId": "58847609-b095-47a3-a868-ec47c55230b3"
      },
      "outputs": [
        {
          "output_type": "stream",
          "name": "stdout",
          "text": [
            "I'm a student\n"
          ]
        }
      ],
      "source": [
        "x = \"I'm a student\"\n",
        "print (x)"
      ]
    },
    {
      "cell_type": "code",
      "source": [
        "m = input('A(x1):')\n",
        "n = input('A(y1):')\n",
        "o = input('B(x2):')\n",
        "s = input('B(y2):')\n",
        "z = (float(m) - float(o))**2 + (float(n) - float(s))**2\n",
        "print(z**(1/2))"
      ],
      "metadata": {
        "id": "f7g6De5PnHeP",
        "colab": {
          "base_uri": "https://localhost:8080/"
        },
        "outputId": "d85e4920-7b74-4d07-d576-6e8416856fb0"
      },
      "execution_count": 4,
      "outputs": [
        {
          "output_type": "stream",
          "name": "stdout",
          "text": [
            "A(x1):0\n",
            "A(y1):0\n",
            "B(x2):3\n",
            "B(y2):4\n",
            "5.0\n"
          ]
        }
      ]
    },
    {
      "cell_type": "code",
      "source": [
        "l = input('請輸入你的身高(公尺):')\n",
        "w = input('請輸入你的體重(公斤):')\n",
        "l=float(l)\n",
        "w=float(w)\n",
        "l**=2\n",
        "w/=l\n",
        "print(int(w<18.5))"
      ],
      "metadata": {
        "colab": {
          "base_uri": "https://localhost:8080/"
        },
        "id": "DD-b2FVcrLNX",
        "outputId": "a2439387-c044-4476-da5b-f8dfd4b75e0e"
      },
      "execution_count": null,
      "outputs": [
        {
          "output_type": "stream",
          "name": "stdout",
          "text": [
            "請輸入你的身高(公尺):1.73\n",
            "請輸入你的體重(公斤):65\n",
            "0\n"
          ]
        }
      ]
    }
  ]
}